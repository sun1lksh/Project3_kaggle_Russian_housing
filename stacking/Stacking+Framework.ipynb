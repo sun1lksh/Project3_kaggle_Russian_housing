{
 "cells": [
  {
   "cell_type": "code",
   "execution_count": 90,
   "metadata": {
    "collapsed": true
   },
   "outputs": [],
   "source": [
    "from collections import Counter\n",
    "import numpy as np\n",
    "import pandas as pd\n",
    "import xgboost as xgb\n",
    "from scipy.sparse import csr_matrix\n",
    "from sklearn.model_selection import KFold\n",
    "from sklearn.ensemble import ExtraTreesRegressor\n",
    "from sklearn.ensemble import RandomForestRegressor\n",
    "from sklearn.metrics import mean_squared_error"
   ]
  },
  {
   "cell_type": "code",
   "execution_count": 80,
   "metadata": {
    "collapsed": false
   },
   "outputs": [
    {
     "name": "stdout",
     "output_type": "stream",
     "text": [
      "/Users/williamzhou/Documents/github/RussianHousing/data/best\n"
     ]
    }
   ],
   "source": [
    "cd /Users/williamzhou/Documents/github/RussianHousing/data/best"
   ]
  },
  {
   "cell_type": "code",
   "execution_count": 81,
   "metadata": {
    "collapsed": false
   },
   "outputs": [],
   "source": [
    "x_train = pd.read_csv('./x_train.csv')\n",
    "y_train = pd.read_csv('./y_train.csv')\n",
    "x_test  = pd.read_csv('./x_test.csv')\n",
    "x_train_fill = pd.read_csv('./x_train_fill.csv')\n",
    "x_test_fill = pd.read_csv('./x_test_fill.csv')\n",
    "y_train_fill = pd.read_csv('./y_train.csv')"
   ]
  },
  {
   "cell_type": "code",
   "execution_count": 82,
   "metadata": {
    "collapsed": false
   },
   "outputs": [],
   "source": [
    "full_sq = x_test['full_sq']"
   ]
  },
  {
   "cell_type": "code",
   "execution_count": 83,
   "metadata": {
    "collapsed": true
   },
   "outputs": [],
   "source": [
    "x_train = np.array(x_train)\n",
    "y_train = np.array(y_train)\n",
    "x_test = np.array(x_test)\n",
    "\n",
    "x_train_fill = np.array(x_train_fill)\n",
    "y_train_fill = np.array(y_train_fill)\n",
    "x_test_fill = np.array(x_test_fill)"
   ]
  },
  {
   "cell_type": "code",
   "execution_count": 84,
   "metadata": {
    "collapsed": false
   },
   "outputs": [],
   "source": [
    "SEED = 0\n",
    "NFOLDS = 5\n",
    "NTHREADS = 4"
   ]
  },
  {
   "cell_type": "code",
   "execution_count": 85,
   "metadata": {
    "collapsed": true
   },
   "outputs": [],
   "source": [
    "def get_oof(clf, x_train, y_train, x_test):\n",
    "    ntrain = x_train.shape[0]\n",
    "    ntest = x_test.shape[0]\n",
    "    oof_train = np.zeros((ntrain,))\n",
    "    oof_test = np.zeros((ntest,))\n",
    "    oof_test_skf = np.empty((NFOLDS, ntest))\n",
    "    \n",
    "    \n",
    "    kf = KFold(n_splits=NFOLDS, shuffle=True, random_state=SEED).split(x_train)\n",
    "\n",
    "    for i, (train_index, test_index) in enumerate(kf):\n",
    "        print(len(train_index))\n",
    "        print(len(test_index))\n",
    "        x_tr = x_train[train_index]\n",
    "        print(x_tr.shape)\n",
    "        y_tr = y_train[train_index]\n",
    "        print(y_train.shape)\n",
    "        x_te = x_train[test_index]\n",
    "        print(x_te.shape)\n",
    "        \n",
    "        print('Start training fold {}'.format(i))\n",
    "        clf.train(x_tr, y_tr)\n",
    "        print('Finish training fold {}'.format(i))\n",
    "        oof_train[test_index] = clf.predict(x_te)\n",
    "        oof_test_skf[i, :] = clf.predict(x_test)\n",
    "        print('Finish predicting fold {}'.format(i))\n",
    "    oof_test[:] = oof_test_skf.mean(axis=0)\n",
    "    \n",
    "    return oof_train.reshape(-1, 1), oof_test.reshape(-1, 1)\n"
   ]
  },
  {
   "cell_type": "code",
   "execution_count": 86,
   "metadata": {
    "collapsed": true
   },
   "outputs": [],
   "source": [
    "class XgbWrapper(object):\n",
    "    def __init__(self, seed=0, params=None):\n",
    "        self.param = params\n",
    "        self.param['seed'] = seed\n",
    "        self.nrounds = params.pop('nrounds', 1000)\n",
    "\n",
    "    def train(self, x_train, y_train):\n",
    "        dtrain = xgb.DMatrix(x_train, label=y_train)\n",
    "        self.gbdt = xgb.train(self.param, dtrain, self.nrounds)\n",
    "\n",
    "    def predict(self, x):\n",
    "        return self.gbdt.predict(xgb.DMatrix(x))"
   ]
  },
  {
   "cell_type": "code",
   "execution_count": 87,
   "metadata": {
    "collapsed": true
   },
   "outputs": [],
   "source": [
    "class SklearnWrapper(object):\n",
    "    def __init__(self, clf, seed=0, params=None):\n",
    "        params['random_state'] = seed\n",
    "        self.clf = clf(**params)\n",
    "\n",
    "    def train(self, x_train, y_train):\n",
    "        self.clf.fit(x_train, y_train)\n",
    "\n",
    "    def predict(self, x):\n",
    "        return self.clf.predict(x)"
   ]
  },
  {
   "cell_type": "code",
   "execution_count": 88,
   "metadata": {
    "collapsed": true
   },
   "outputs": [],
   "source": [
    "\n",
    "xgb1_params = {\n",
    "    'eta': 0.05,\n",
    "    'max_depth': 5,\n",
    "    'subsample': 0.7,\n",
    "    'colsample_bytree': 0.7,\n",
    "    'objective': 'reg:linear',\n",
    "    'eval_metric': 'rmse',\n",
    "    'early_stopping_rounds':20,\n",
    "    'silent': 0}\n",
    "\n",
    "xgb2_params = {\n",
    "    'eta': 0.04,\n",
    "    'max_depth': ,\n",
    "    'subsample': 1,\n",
    "    'colsample_bytree': 0.7,\n",
    "    'objective': 'reg:linear',\n",
    "    'eval_metric': 'rmse',\n",
    "    'early_stopping_rounds':20,\n",
    "    'silent': 0}\n",
    "\n",
    "xgb3_params = {\n",
    "    'eta': 0.06,\n",
    "    'max_depth': 5,\n",
    "    'subsample': 1,\n",
    "    'colsample_bytree': 0.7,\n",
    "    'objective': 'reg:linear',\n",
    "    'eval_metric': 'rmse',\n",
    "    'early_stopping_rounds':20,\n",
    "    'silent': 0}\n",
    "\n",
    "et_params = {\n",
    "    'n_jobs': 16,\n",
    "    'n_estimators': 100,\n",
    "    'max_features': 0.5,\n",
    "    'max_depth': 12,\n",
    "    'min_samples_leaf': 2,\n",
    "}\n",
    "\n",
    "rf_params = {\n",
    "    'n_jobs': 16,\n",
    "    'n_estimators': 100,\n",
    "    'max_features': 0.2,\n",
    "    'max_depth': 8,\n",
    "    'min_samples_leaf': 2,\n",
    "}"
   ]
  },
  {
   "cell_type": "code",
   "execution_count": 94,
   "metadata": {
    "collapsed": false
   },
   "outputs": [
    {
     "name": "stdout",
     "output_type": "stream",
     "text": [
      "24376\n",
      "6095\n",
      "(24376, 40)\n",
      "(30471, 1)\n",
      "(6095, 40)\n",
      "Start training fold 0\n"
     ]
    },
    {
     "name": "stderr",
     "output_type": "stream",
     "text": [
      "/Users/williamzhou/anaconda/lib/python2.7/site-packages/ipykernel/__main__.py:7: DataConversionWarning: A column-vector y was passed when a 1d array was expected. Please change the shape of y to (n_samples,), for example using ravel().\n"
     ]
    },
    {
     "name": "stdout",
     "output_type": "stream",
     "text": [
      "Finish training fold 0\n",
      "Finish predicting fold 0\n",
      "24377\n",
      "6094\n",
      "(24377, 40)\n",
      "(30471, 1)\n",
      "(6094, 40)\n",
      "Start training fold 1\n",
      "Finish training fold 1\n",
      "Finish predicting fold 1\n",
      "24377\n",
      "6094\n",
      "(24377, 40)\n",
      "(30471, 1)\n",
      "(6094, 40)\n",
      "Start training fold 2\n",
      "Finish training fold 2\n",
      "Finish predicting fold 2\n",
      "24377\n",
      "6094\n",
      "(24377, 40)\n",
      "(30471, 1)\n",
      "(6094, 40)\n",
      "Start training fold 3\n",
      "Finish training fold 3\n",
      "Finish predicting fold 3\n",
      "24377\n",
      "6094\n",
      "(24377, 40)\n",
      "(30471, 1)\n",
      "(6094, 40)\n",
      "Start training fold 4\n",
      "Finish training fold 4\n",
      "Finish predicting fold 4\n",
      "et-CV: 40463.3528966\n",
      "24376\n",
      "6095\n",
      "(24376, 40)\n",
      "(30471, 1)\n",
      "(6095, 40)\n",
      "Start training fold 0\n",
      "Finish training fold 0\n",
      "Finish predicting fold 0\n",
      "24377\n",
      "6094\n",
      "(24377, 40)\n",
      "(30471, 1)\n",
      "(6094, 40)\n",
      "Start training fold 1\n",
      "Finish training fold 1\n",
      "Finish predicting fold 1\n",
      "24377\n",
      "6094\n",
      "(24377, 40)\n",
      "(30471, 1)\n",
      "(6094, 40)\n",
      "Start training fold 2\n",
      "Finish training fold 2\n",
      "Finish predicting fold 2\n",
      "24377\n",
      "6094\n",
      "(24377, 40)\n",
      "(30471, 1)\n",
      "(6094, 40)\n",
      "Start training fold 3\n",
      "Finish training fold 3\n",
      "Finish predicting fold 3\n",
      "24377\n",
      "6094\n",
      "(24377, 40)\n",
      "(30471, 1)\n",
      "(6094, 40)\n",
      "Start training fold 4\n",
      "Finish training fold 4\n",
      "Finish predicting fold 4\n",
      "rf-CV: 41679.0942382\n",
      "CPU times: user 1min 21s, sys: 971 ms, total: 1min 22s\n",
      "Wall time: 15.7 s\n"
     ]
    }
   ],
   "source": [
    "%%time\n",
    "dtrain = xgb.DMatrix(x_train, label=y_train)\n",
    "\n",
    "# xg1 = XgbWrapper(seed=SEED, params=xgb1_params)\n",
    "# xg1_train, xg1_test = get_oof(xg1, x_train, y_train, x_test)\n",
    "# print(\"XG1-CV: {}\".format(mean_squared_error(y_train, xg1_train)**0.5))\n",
    "\n",
    "# xg2 = XgbWrapper(seed=SEED, params=xgb2_params)\n",
    "# xg2_train, xg2_test = get_oof(xg2, x_train, y_train, x_test)\n",
    "# print(\"XG2-CV: {}\".format(mean_squared_error(y_train, xg2_train)**0.5))\n",
    "\n",
    "# xg3 = XgbWrapper(seed=SEED, params=xgb3_params)\n",
    "# xg3_train, xg3_test = get_oof(xg3, x_train, y_train, x_test)\n",
    "\n",
    "# xg4 = XgbWrapper(seed=SEED, params=xgb4_params)\n",
    "# xg4_train, xg4_test = get_oof(xg4, x_train, y_train, x_test)\n",
    "\n",
    "et = SklearnWrapper(clf=ExtraTreesRegressor, seed=SEED, params=et_params)\n",
    "et_train , et_test =  get_oof(et, x_train_fill, y_train_fill, x_test_fill)\n",
    "print(\"et-CV: {}\".format(mean_squared_error(y_train, et_train)**0.5))\n",
    "\n",
    "rf = SklearnWrapper(clf=RandomForestRegressor, seed=SEED, params=rf_params)\n",
    "rf_train , rf_test =  get_oof(rf, x_train_fill, y_train_fill, x_test_fill)\n",
    "print(\"rf-CV: {}\".format(mean_squared_error(y_train, rf_train)**0.5))"
   ]
  },
  {
   "cell_type": "code",
   "execution_count": 76,
   "metadata": {
    "collapsed": false
   },
   "outputs": [],
   "source": [
    "X_train_stack = np.concatenate([x_train, \n",
    "                                pd.DataFrame(xg1_train),\n",
    "#                                 pd.DataFrame(xg2_train),\n",
    "#                                 pd.DataFrame(xg3_train),\n",
    "#                                 pd.DataFrame(xg4_train),\n",
    "#                                 pd.DataFrame(et_train),\n",
    "#                                 pd.DataFrame(rf_train),\n",
    "                               ], axis=1)\n",
    "xgtrain_stack = xgb.DMatrix(X_train_stack,y_train)\n",
    "\n",
    "\n",
    "X_test_stack = np.concatenate([x_test, \n",
    "                                pd.DataFrame(xg1_test),\n",
    "#                                 pd.DataFrame(xg2_test),\n",
    "#                                 pd.DataFrame(xg3_test),\n",
    "#                                 pd.DataFrame(xg4_test),\n",
    "#                                 pd.DataFrame(et_test),\n",
    "#                                 pd.DataFrame(rf_test),\n",
    "                              ], axis=1)\n",
    "\n",
    "xgtest_stack = xgb.DMatrix(X_test_stack)"
   ]
  },
  {
   "cell_type": "code",
   "execution_count": 77,
   "metadata": {
    "collapsed": false
   },
   "outputs": [
    {
     "name": "stdout",
     "output_type": "stream",
     "text": [
      "[0]\ttrain-rmse:133932\ttest-rmse:133945\n",
      "[50]\ttrain-rmse:38665.3\ttest-rmse:40401.6\n",
      "[100]\ttrain-rmse:36197.1\ttest-rmse:39221.8\n",
      "39204.3385417\n"
     ]
    }
   ],
   "source": [
    "final_xgb_params = {\n",
    "    'eta': 0.05,\n",
    "    'max_depth': 5,\n",
    "    'subsample': 0.7,\n",
    "    'colsample_bytree': 0.7,\n",
    "    'objective': 'reg:linear',\n",
    "    'eval_metric': 'rmse',\n",
    "    'silent': 0}\n",
    "\n",
    "cv_output = xgb.cv(final_xgb_params, xgtrain_stack, \n",
    "                       num_boost_round=1000, \n",
    "                       early_stopping_rounds=20,\n",
    "                       verbose_eval=50, show_stdv=False)\n",
    "test_rmse = cv_output.loc[len(cv_output)-1,'test-rmse-mean']\n",
    "print(test_rmse)  \n",
    "num_boost_rounds = len(cv_output)\n",
    "model = xgb.train(dict(final_xgb_params, silent=0), xgtrain_stack, num_boost_round=num_boost_rounds)\n"
   ]
  },
  {
   "cell_type": "code",
   "execution_count": 78,
   "metadata": {
    "collapsed": false
   },
   "outputs": [
    {
     "data": {
      "text/html": [
       "<div>\n",
       "<table border=\"1\" class=\"dataframe\">\n",
       "  <thead>\n",
       "    <tr style=\"text-align: right;\">\n",
       "      <th></th>\n",
       "      <th>id</th>\n",
       "      <th>price_doc</th>\n",
       "    </tr>\n",
       "  </thead>\n",
       "  <tbody>\n",
       "    <tr>\n",
       "      <th>0</th>\n",
       "      <td>30474</td>\n",
       "      <td>5.328497e+06</td>\n",
       "    </tr>\n",
       "    <tr>\n",
       "      <th>1</th>\n",
       "      <td>30475</td>\n",
       "      <td>8.002381e+06</td>\n",
       "    </tr>\n",
       "    <tr>\n",
       "      <th>2</th>\n",
       "      <td>30476</td>\n",
       "      <td>5.092646e+06</td>\n",
       "    </tr>\n",
       "    <tr>\n",
       "      <th>3</th>\n",
       "      <td>30477</td>\n",
       "      <td>5.612750e+06</td>\n",
       "    </tr>\n",
       "    <tr>\n",
       "      <th>4</th>\n",
       "      <td>30478</td>\n",
       "      <td>4.817529e+06</td>\n",
       "    </tr>\n",
       "  </tbody>\n",
       "</table>\n",
       "</div>"
      ],
      "text/plain": [
       "      id     price_doc\n",
       "0  30474  5.328497e+06\n",
       "1  30475  8.002381e+06\n",
       "2  30476  5.092646e+06\n",
       "3  30477  5.612750e+06\n",
       "4  30478  4.817529e+06"
      ]
     },
     "execution_count": 78,
     "metadata": {},
     "output_type": "execute_result"
    }
   ],
   "source": [
    "y_predict = model.predict(xgtest_stack)\n",
    "y_predic_all_sq = (y_predict)*full_sq\n",
    "df_sub = pd.DataFrame({'id': range(30474,30474+7662), 'price_doc': y_predic_all_sq})\n",
    "df_sub.to_csv('./sub.csv', index=False)\n",
    "df_sub.head()"
   ]
  },
  {
   "cell_type": "code",
   "execution_count": null,
   "metadata": {
    "collapsed": true
   },
   "outputs": [],
   "source": []
  },
  {
   "cell_type": "code",
   "execution_count": null,
   "metadata": {
    "collapsed": true
   },
   "outputs": [],
   "source": []
  }
 ],
 "metadata": {
  "kernelspec": {
   "display_name": "Python 2",
   "language": "python",
   "name": "python2"
  },
  "language_info": {
   "codemirror_mode": {
    "name": "ipython",
    "version": 2
   },
   "file_extension": ".py",
   "mimetype": "text/x-python",
   "name": "python",
   "nbconvert_exporter": "python",
   "pygments_lexer": "ipython2",
   "version": "2.7.13"
  }
 },
 "nbformat": 4,
 "nbformat_minor": 2
}
